{
 "cells": [
  {
   "cell_type": "code",
   "execution_count": 9,
   "metadata": {},
   "outputs": [
    {
     "name": "stdout",
     "output_type": "stream",
     "text": [
      "\n",
      "\n",
      "Hi there, thank you for asking this question. COVID-19 is a sickness that is caused by a very tiny germ called a virus. This virus can make people feel sick and can spread easily from one person to another. It usually makes people have a fever, cough, and sometimes a hard time breathing. That's why it's important to wash our hands a lot and wear a mask to protect ourselves and others from getting sick. Just like how we take care of ourselves when we have a cold or the flu, we also need to take care of ourselves and others to stay healthy and keep the virus from spreading. I hope that helps you understand a little bit about COVID-19.\n",
      "[Document(page_content='covid.'), Document(page_content='Remember, even though covid is a very tiny virus, we can still do big things to protect ourselves'), Document(page_content='that we can all stay healthy and safe. Do you have any more questions about COVID-19?'), Document(page_content='others safe from covid.')]\n"
     ]
    }
   ],
   "source": [
    "# Import Libraries\n",
    "import os\n",
    "import pinecone\n",
    "from openai import OpenAI\n",
    "from dotenv import load_dotenv,find_dotenv\n",
    "from langchain_openai import OpenAIEmbeddings\n",
    "from langchain_openai import OpenAI\n",
    "from langchain_openai import ChatOpenAI\n",
    "from langchain import PromptTemplate\n",
    "from langchain.text_splitter import RecursiveCharacterTextSplitter\n",
    "from langchain_openai import OpenAIEmbeddings\n",
    "from langchain_pinecone import Pinecone\n",
    "\n",
    "# Load environment variables\n",
    "load_dotenv(find_dotenv())\n",
    "client = OpenAI(api_key=os.environ.get(\"OPENAI_API_KEY\"))\n",
    "llm = OpenAI(model_name=\"gpt-3.5-turbo-instruct\")\n",
    "\n",
    "# Import prompt and define PromptTemplate\n",
    "personatext = \"doctor\"\n",
    "concepttext = \"covid\"\n",
    "template = \"\"\"You are an expert {persona}. Explain the concept of {concept} to a 5 years old kid\"\"\"\n",
    "prompt = PromptTemplate(input_variables=[\"concept\"],template=template,)\n",
    "\n",
    "# Run LLM with PromptTemplate\n",
    "explanation = llm.invoke(prompt.format(persona=personatext, concept=concepttext))\n",
    "print (explanation)\n",
    "print (\"\\n\")\n",
    "\n",
    "# Split the Primpt text into smaller chunks\n",
    "text_splitter = RecursiveCharacterTextSplitter(chunk_size = 100,chunk_overlap  = 0,)\n",
    "texts = text_splitter.create_documents([explanation])\n",
    "\n",
    "# The first row\n",
    "#print(texts[0])\n",
    "\n",
    "# Import and instantiate OpenAI embeddings\n",
    "embeddings = OpenAIEmbeddings()\n",
    "\n",
    "# Turn the first text chunk into a vector with the embedding\n",
    "index_name = 'search'\n",
    "search = Pinecone.from_documents(index_name = index_name, documents = texts, embedding = embeddings)\n",
    "\n",
    "# Do a simple vector similarity search\n",
    "query = \"What is the best medicine for covid?\"\n",
    "result = search.similarity_search(query)\n",
    "print(result)\n"
   ]
  }
 ],
 "metadata": {
  "kernelspec": {
   "display_name": "Python 3",
   "language": "python",
   "name": "python3"
  },
  "language_info": {
   "codemirror_mode": {
    "name": "ipython",
    "version": 3
   },
   "file_extension": ".py",
   "mimetype": "text/x-python",
   "name": "python",
   "nbconvert_exporter": "python",
   "pygments_lexer": "ipython3",
   "version": "3.12.1"
  }
 },
 "nbformat": 4,
 "nbformat_minor": 2
}
