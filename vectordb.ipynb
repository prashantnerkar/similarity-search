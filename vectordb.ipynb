{
 "cells": [
  {
   "cell_type": "code",
   "execution_count": 1,
   "metadata": {},
   "outputs": [
    {
     "name": "stderr",
     "output_type": "stream",
     "text": [
      "/Library/Frameworks/Python.framework/Versions/3.12/lib/python3.12/site-packages/pinecone/data/index.py:1: TqdmWarning: IProgress not found. Please update jupyter and ipywidgets. See https://ipywidgets.readthedocs.io/en/stable/user_install.html\n",
      "  from tqdm.autonotebook import tqdm\n"
     ]
    },
    {
     "name": "stdout",
     "output_type": "stream",
     "text": [
      "\n",
      "\n",
      "Hi there! Do you know what germs are? They are tiny little things that can make us sick. Sometimes, when we get sick, we need medicine to help us get better. One type of medicine is called antibiotics. They are like little soldiers that fight against the germs in our body. They help our body get rid of the germs so we can feel better. Just like how superheroes save the day, antibiotics are like superheroes for our bodies!\n",
      "[Document(page_content='Antibiotics are like superheroes for our bodies. They come in and help our natural superpowers'), Document(page_content=\"That's where antibiotics come in!\"), Document(page_content='antibiotics.'), Document(page_content='should only take antibiotics when a doctor prescribes them to us because they can be harmful if not')]\n"
     ]
    }
   ],
   "source": [
    "# Load environment variables\n",
    "import os\n",
    "import pinecone\n",
    "from openai import OpenAI\n",
    "from dotenv import load_dotenv,find_dotenv\n",
    "from langchain_openai import OpenAIEmbeddings\n",
    "from langchain_openai import OpenAI\n",
    "from langchain_openai import ChatOpenAI\n",
    "from langchain import PromptTemplate\n",
    "from langchain.text_splitter import RecursiveCharacterTextSplitter\n",
    "from langchain_openai import OpenAIEmbeddings\n",
    "from langchain_pinecone import Pinecone\n",
    "\n",
    "load_dotenv(find_dotenv())\n",
    "client = OpenAI(api_key=os.environ.get(\"OPENAI_API_KEY\"))\n",
    "llm = OpenAI(model_name=\"gpt-3.5-turbo-instruct\")\n",
    "\n",
    "# Import prompt and define PromptTemplate\n",
    "personatext = \"doctor\"\n",
    "concepttext = \"antibiotics\"\n",
    "template = \"\"\"You are an expert {persona}. Explain the concept of {concept} to a 5 years old kid\"\"\"\n",
    "prompt = PromptTemplate(input_variables=[\"concept\"],template=template,)\n",
    "\n",
    "# Run LLM with PromptTemplate\n",
    "explanation = llm.invoke(prompt.format(persona=personatext, concept=concepttext))\n",
    "print (explanation)\n",
    "\n",
    "text_splitter = RecursiveCharacterTextSplitter(chunk_size = 100,chunk_overlap  = 0,)\n",
    "texts = text_splitter.create_documents([explanation])\n",
    "\n",
    "# Import and instantiate OpenAI embeddings\n",
    "embeddings = OpenAIEmbeddings()\n",
    "\n",
    "# Turn the first text chunk into a vector with the embedding\n",
    "index_name = 'search'\n",
    "search = Pinecone.from_documents(index_name = index_name, documents = texts, embedding = embeddings)\n",
    "\n",
    "# Do a simple vector similarity search\n",
    "query = \"What are benefits of medication?\"\n",
    "result = search.similarity_search(query)\n",
    "print(result)\n"
   ]
  }
 ],
 "metadata": {
  "kernelspec": {
   "display_name": "Python 3",
   "language": "python",
   "name": "python3"
  },
  "language_info": {
   "codemirror_mode": {
    "name": "ipython",
    "version": 3
   },
   "file_extension": ".py",
   "mimetype": "text/x-python",
   "name": "python",
   "nbconvert_exporter": "python",
   "pygments_lexer": "ipython3",
   "version": "3.12.1"
  }
 },
 "nbformat": 4,
 "nbformat_minor": 2
}
