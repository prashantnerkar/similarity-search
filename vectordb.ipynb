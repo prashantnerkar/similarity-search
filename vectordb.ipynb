{
 "cells": [
  {
   "cell_type": "code",
   "execution_count": 17,
   "metadata": {},
   "outputs": [
    {
     "name": "stdout",
     "output_type": "stream",
     "text": [
      "Prompt Template:\n",
      "You are an expert {persona}. Explain the concept of {concept} to a 5 years old kid\n",
      "Prompt:\n",
      "input_variables=['concept', 'persona'] template='You are an expert {persona}. Explain the concept of {concept} to a 5 years old kid'\n",
      "LLM Explanation:\n",
      "\n",
      "\n",
      "Hello there, little one! My name is Dr. Smith and I'm an expert doctor. I'm here to explain to you what Covid is in a way that you can understand.\n",
      "\n",
      "Covid is a big sickness that can make people feel very sick. It's caused by a tiny germ called a virus that can make us sick. Just like how you sometimes catch a cold or a flu, people can catch Covid too.\n",
      "\n",
      "But don't worry, there are things we can do to keep from getting sick. We can wash our hands often and wear a mask to cover our nose and mouth. This helps to keep the germs away. We can also stay away from people who are sick to keep ourselves healthy.\n",
      "\n",
      "Sometimes, people who catch Covid have to go to the hospital to get better. But most people just have to stay at home and rest until they feel better.\n",
      "\n",
      "It's important to remember that we're all in this together and we can help each other stay healthy by following these steps. Do you have any questions about Covid?\n",
      "[Document(page_content='covid.'), Document(page_content='take medicine when we have a cold, doctors and scientists are working hard to find medicine to help'), Document(page_content='Remember, even though covid is a very tiny virus, we can still do big things to protect ourselves'), Document(page_content='what Covid is in a way that you can understand.')]\n"
     ]
    }
   ],
   "source": [
    "# Import Libraries\n",
    "import os\n",
    "import pinecone\n",
    "from openai import OpenAI\n",
    "from dotenv import load_dotenv,find_dotenv\n",
    "from langchain_openai import OpenAIEmbeddings\n",
    "from langchain_openai import OpenAI\n",
    "from langchain_openai import ChatOpenAI\n",
    "from langchain import PromptTemplate\n",
    "from langchain.text_splitter import RecursiveCharacterTextSplitter\n",
    "from langchain_openai import OpenAIEmbeddings\n",
    "from langchain_pinecone import Pinecone\n",
    "\n",
    "# Load environment variables\n",
    "load_dotenv(find_dotenv())\n",
    "client = OpenAI(api_key=os.environ.get(\"OPENAI_API_KEY\"))\n",
    "llm = OpenAI(model_name=\"gpt-3.5-turbo-instruct\")\n",
    "\n",
    "# Import prompt and define PromptTemplate\n",
    "template = \"\"\"You are an expert {persona}. Explain the concept of {concept} to a 5 years old kid\"\"\"\n",
    "prompt = PromptTemplate(input_variables=[\"concept\"],template=template,)\n",
    "\n",
    "print (\"Prompt Template:\")\n",
    "print (template)\n",
    "\n",
    "print (\"Prompt:\")\n",
    "print (prompt)\n",
    "\n",
    "# Run LLM with PromptTemplate\n",
    "personatext = \"doctor\"\n",
    "concepttext = \"covid\"\n",
    "explanation = llm.invoke(prompt.format(persona=personatext, concept=concepttext))\n",
    "print (\"LLM Explanation:\")\n",
    "print (explanation)\n",
    "\n",
    "# Split the output text into smaller chunks\n",
    "text_splitter = RecursiveCharacterTextSplitter(chunk_size = 100,chunk_overlap  = 0,)\n",
    "texts = text_splitter.create_documents([explanation])\n",
    "\n",
    "# Individual text chunks can be accessed with \"page_content\"\n",
    "texts[0].page_content\n",
    "\n",
    "# Import and instantiate OpenAI embeddings\n",
    "embeddings = OpenAIEmbeddings()\n",
    "\n",
    "# Turn the first text chunk into a vector with the embedding\n",
    "index_name = 'search'\n",
    "search = Pinecone.from_documents(index_name = index_name, documents = texts, embedding = embeddings)\n",
    "\n",
    "# Do a simple vector similarity search\n",
    "query = \"What is the best medicine for covid?\"\n",
    "result = search.similarity_search(query)\n",
    "print(result)\n"
   ]
  }
 ],
 "metadata": {
  "kernelspec": {
   "display_name": "Python 3",
   "language": "python",
   "name": "python3"
  },
  "language_info": {
   "codemirror_mode": {
    "name": "ipython",
    "version": 3
   },
   "file_extension": ".py",
   "mimetype": "text/x-python",
   "name": "python",
   "nbconvert_exporter": "python",
   "pygments_lexer": "ipython3",
   "version": "3.12.1"
  }
 },
 "nbformat": 4,
 "nbformat_minor": 2
}
