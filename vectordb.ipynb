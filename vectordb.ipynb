{
 "cells": [
  {
   "cell_type": "code",
   "execution_count": 32,
   "metadata": {},
   "outputs": [
    {
     "name": "stdout",
     "output_type": "stream",
     "text": [
      "PROMPT TEMPLATE: You are an expert {persona}. Explain the concept of {concept} to a 5 years old kid\n",
      "\n",
      "PROMPT: input_variables=['concept', 'persona'] template='You are an expert {persona}. Explain the concept of {concept} to a 5 years old kid'\n",
      "\n",
      "LLM EXPLANATION: \n",
      "\n",
      "Hello there, little one! My name is Dr. [Name] and I am a doctor who helps people stay healthy. Today, I am going to explain to you what Covid is. \n",
      "\n",
      "Covid is short for coronavirus disease. It is a sickness that makes people feel very sick, like having a bad cold. But it's not just a regular cold, it's a very special kind of cold that can spread very easily from person to person. \n",
      "\n",
      "Just like how you cover your nose and mouth when you sneeze, Covid also has a special way of moving from one person to another. It can spread when someone who has it sneezes or coughs, and tiny droplets from their nose or mouth can get into the air and into other people's noses or mouths. \n",
      "\n",
      "That's why it's important to wear a mask and wash your hands often, so that we can stop the spread of Covid. \n",
      "\n",
      "Doctors and scientists all over the world are working very hard to find a way to make people better and to prevent more people from getting sick. So, it's important for us to listen to their advice and do our part to stay safe and healthy. \n",
      "\n",
      "Remember, it's always good to ask questions and learn about things that we don't\n",
      "\n",
      "SIMILARITY SEARCH: [Document(page_content='covid.'), Document(page_content='take medicine when we have a cold, doctors and scientists are working hard to find medicine to help'), Document(page_content='of Covid.'), Document(page_content='have any other questions about covid?')]\n"
     ]
    }
   ],
   "source": [
    "# Import Libraries\n",
    "import os\n",
    "import pinecone\n",
    "from openai import OpenAI\n",
    "from dotenv import load_dotenv,find_dotenv\n",
    "from langchain_openai import OpenAIEmbeddings\n",
    "from langchain_openai import OpenAI\n",
    "from langchain_openai import ChatOpenAI\n",
    "from langchain import PromptTemplate\n",
    "from langchain.text_splitter import RecursiveCharacterTextSplitter\n",
    "from langchain_openai import OpenAIEmbeddings\n",
    "from langchain_pinecone import Pinecone\n",
    "\n",
    "# Load environment variables\n",
    "load_dotenv(find_dotenv())\n",
    "client = OpenAI(api_key=os.environ.get(\"OPENAI_API_KEY\"))\n",
    "llm = OpenAI(model_name=\"gpt-3.5-turbo-instruct\")\n",
    "\n",
    "# Import prompt and define PromptTemplate\n",
    "template = \"\"\"You are an expert {persona}. Explain the concept of {concept} to a 5 years old kid\"\"\"\n",
    "prompt = PromptTemplate(input_variables=[\"concept\"],template=template,)\n",
    "\n",
    "# Run LLM with PromptTemplate\n",
    "personatext = \"doctor\"\n",
    "concepttext = \"covid\"\n",
    "explanation = llm.invoke(prompt.format(persona=personatext, concept=concepttext))\n",
    "\n",
    "# Split the output text into smaller chunks\n",
    "text_splitter = RecursiveCharacterTextSplitter(chunk_size = 100,chunk_overlap  = 0,)\n",
    "texts = text_splitter.create_documents([explanation])\n",
    "\n",
    "# Individual text chunks can be accessed with \"page_content\"\n",
    "#texts[0].page_content\n",
    "\n",
    "# Import and instantiate OpenAI embeddings\n",
    "embeddings = OpenAIEmbeddings()\n",
    "\n",
    "# Turn the first text chunk into a vector with the embedding\n",
    "index_name = 'search' #Pinecone index name\n",
    "search = Pinecone.from_documents(index_name = index_name, documents = texts, embedding = embeddings)\n",
    "\n",
    "# Do a simple vector similarity search\n",
    "query = \"What is the best medicine for covid?\"\n",
    "result = search.similarity_search(query)\n",
    "\n",
    "print (\"PROMPT TEMPLATE:\", template)\n",
    "print (\"\\nPROMPT:\", prompt)\n",
    "print (\"\\nLLM EXPLANATION:\", explanation)\n",
    "print (\"\\nSIMILARITY SEARCH:\", result)\n",
    "\n"
   ]
  }
 ],
 "metadata": {
  "kernelspec": {
   "display_name": "Python 3",
   "language": "python",
   "name": "python3"
  },
  "language_info": {
   "codemirror_mode": {
    "name": "ipython",
    "version": 3
   },
   "file_extension": ".py",
   "mimetype": "text/x-python",
   "name": "python",
   "nbconvert_exporter": "python",
   "pygments_lexer": "ipython3",
   "version": "3.12.1"
  }
 },
 "nbformat": 4,
 "nbformat_minor": 2
}
