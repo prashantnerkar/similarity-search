{
 "cells": [
  {
   "cell_type": "code",
   "execution_count": 3,
   "metadata": {},
   "outputs": [
    {
     "name": "stdout",
     "output_type": "stream",
     "text": [
      "\n",
      "\n",
      "Hi there! Do you know what a virus is? It's a tiny germ that can make us sick. Well, covid is a new virus that has been spreading around the world. It can make people feel very sick and it's important that we all do our part to stay healthy. That means washing our hands, wearing masks, and staying away from big groups of people. Just like how superheroes have to use their powers to defeat the bad guys, we have to use our superpowers (like washing our hands) to keep ourselves and others safe from covid.\n",
      "page_content=\"Hi there! Do you know what a virus is? It's a tiny germ that can make us sick. Well, covid is a new\"\n",
      "[Document(page_content='To keep ourselves and others safe from this virus, we need to do some things like washing our hands'), Document(page_content='antibiotics.'), Document(page_content='when we get sick, we need medicine to help us get better. One type of medicine is called'), Document(page_content='explain to you the concept of COVID-19.')]\n"
     ]
    }
   ],
   "source": [
    "# Import Libraries\n",
    "import os\n",
    "import pinecone\n",
    "from openai import OpenAI\n",
    "from dotenv import load_dotenv,find_dotenv\n",
    "from langchain_openai import OpenAIEmbeddings\n",
    "from langchain_openai import OpenAI\n",
    "from langchain_openai import ChatOpenAI\n",
    "from langchain import PromptTemplate\n",
    "from langchain.text_splitter import RecursiveCharacterTextSplitter\n",
    "from langchain_openai import OpenAIEmbeddings\n",
    "from langchain_pinecone import Pinecone\n",
    "\n",
    "# Load environment variables\n",
    "load_dotenv(find_dotenv())\n",
    "client = OpenAI(api_key=os.environ.get(\"OPENAI_API_KEY\"))\n",
    "llm = OpenAI(model_name=\"gpt-3.5-turbo-instruct\")\n",
    "\n",
    "# Import prompt and define PromptTemplate\n",
    "personatext = \"doctor\"\n",
    "concepttext = \"covid\"\n",
    "template = \"\"\"You are an expert {persona}. Explain the concept of {concept} to a 5 years old kid\"\"\"\n",
    "prompt = PromptTemplate(input_variables=[\"concept\"],template=template,)\n",
    "\n",
    "# Run LLM with PromptTemplate\n",
    "explanation = llm.invoke(prompt.format(persona=personatext, concept=concepttext))\n",
    "print (explanation)\n",
    "\n",
    "# Split the Primpt text into smaller chunks\n",
    "text_splitter = RecursiveCharacterTextSplitter(chunk_size = 100,chunk_overlap  = 0,)\n",
    "texts = text_splitter.create_documents([explanation])\n",
    "\n",
    "# The first row\n",
    "print(texts[0])\n",
    "\n",
    "# Import and instantiate OpenAI embeddings\n",
    "embeddings = OpenAIEmbeddings()\n",
    "\n",
    "# Turn the first text chunk into a vector with the embedding\n",
    "index_name = 'search'\n",
    "search = Pinecone.from_documents(index_name = index_name, documents = texts, embedding = embeddings)\n",
    "\n",
    "# Do a simple vector similarity search\n",
    "query = \"What is the best medicine for covid?\"\n",
    "result = search.similarity_search(query)\n",
    "print(result)\n"
   ]
  }
 ],
 "metadata": {
  "kernelspec": {
   "display_name": "Python 3",
   "language": "python",
   "name": "python3"
  },
  "language_info": {
   "codemirror_mode": {
    "name": "ipython",
    "version": 3
   },
   "file_extension": ".py",
   "mimetype": "text/x-python",
   "name": "python",
   "nbconvert_exporter": "python",
   "pygments_lexer": "ipython3",
   "version": "3.12.1"
  }
 },
 "nbformat": 4,
 "nbformat_minor": 2
}
